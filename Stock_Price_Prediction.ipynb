{
  "nbformat": 4,
  "nbformat_minor": 0,
  "metadata": {
    "colab": {
      "name": "Stock Price Prediction.ipynb",
      "provenance": [],
      "collapsed_sections": [],
      "toc_visible": true,
      "authorship_tag": "ABX9TyOyDXHuNqkHTQ9EaYQsOQ5N",
      "include_colab_link": true
    },
    "kernelspec": {
      "name": "python3",
      "display_name": "Python 3"
    },
    "language_info": {
      "name": "python"
    }
  },
  "cells": [
    {
      "cell_type": "markdown",
      "metadata": {
        "id": "view-in-github",
        "colab_type": "text"
      },
      "source": [
        "<a href=\"https://colab.research.google.com/github/ly5977507/Maschine-learning/blob/main/Stock_Price_Prediction.ipynb\" target=\"_parent\"><img src=\"https://colab.research.google.com/assets/colab-badge.svg\" alt=\"Open In Colab\"/></a>"
      ]
    },
    {
      "cell_type": "code",
      "execution_count": 1,
      "metadata": {
        "id": "TCFQikdDb0g1"
      },
      "outputs": [],
      "source": [
        "import math\n",
        "import pandas_datareader as web\n",
        "import numpy as np\n",
        "import pandas as pd\n",
        "from sklearn.preprocessing import MinMaxScaler\n",
        "from keras.models import Sequential\n",
        "from keras.layers import Dense, LSTM\n",
        "import matplotlib.pyplot as plt\n",
        "plt.style.use('fivethirtyeight')"
      ]
    },
    {
      "cell_type": "code",
      "source": [
        "pip install pandas-datareader --upgrade"
      ],
      "metadata": {
        "colab": {
          "base_uri": "https://localhost:8080/",
          "height": 506
        },
        "id": "Pn-636utsjhM",
        "outputId": "491d545d-1953-48d7-dfdb-4f37bd61a204"
      },
      "execution_count": 6,
      "outputs": [
        {
          "output_type": "stream",
          "name": "stdout",
          "text": [
            "Looking in indexes: https://pypi.org/simple, https://us-python.pkg.dev/colab-wheels/public/simple/\n",
            "Requirement already satisfied: pandas-datareader in /usr/local/lib/python3.7/dist-packages (0.9.0)\n",
            "Collecting pandas-datareader\n",
            "  Downloading pandas_datareader-0.10.0-py3-none-any.whl (109 kB)\n",
            "\u001b[?25l\r\u001b[K     |███                             | 10 kB 20.9 MB/s eta 0:00:01\r\u001b[K     |██████                          | 20 kB 25.4 MB/s eta 0:00:01\r\u001b[K     |█████████                       | 30 kB 29.6 MB/s eta 0:00:01\r\u001b[K     |████████████                    | 40 kB 34.0 MB/s eta 0:00:01\r\u001b[K     |███████████████                 | 51 kB 22.0 MB/s eta 0:00:01\r\u001b[K     |██████████████████              | 61 kB 23.7 MB/s eta 0:00:01\r\u001b[K     |█████████████████████           | 71 kB 24.9 MB/s eta 0:00:01\r\u001b[K     |████████████████████████        | 81 kB 25.6 MB/s eta 0:00:01\r\u001b[K     |███████████████████████████     | 92 kB 27.6 MB/s eta 0:00:01\r\u001b[K     |██████████████████████████████  | 102 kB 29.6 MB/s eta 0:00:01\r\u001b[K     |████████████████████████████████| 109 kB 29.6 MB/s \n",
            "\u001b[?25hRequirement already satisfied: pandas>=0.23 in /usr/local/lib/python3.7/dist-packages (from pandas-datareader) (1.3.5)\n",
            "Requirement already satisfied: requests>=2.19.0 in /usr/local/lib/python3.7/dist-packages (from pandas-datareader) (2.23.0)\n",
            "Requirement already satisfied: lxml in /usr/local/lib/python3.7/dist-packages (from pandas-datareader) (4.9.1)\n",
            "Requirement already satisfied: python-dateutil>=2.7.3 in /usr/local/lib/python3.7/dist-packages (from pandas>=0.23->pandas-datareader) (2.8.2)\n",
            "Requirement already satisfied: pytz>=2017.3 in /usr/local/lib/python3.7/dist-packages (from pandas>=0.23->pandas-datareader) (2022.1)\n",
            "Requirement already satisfied: numpy>=1.17.3 in /usr/local/lib/python3.7/dist-packages (from pandas>=0.23->pandas-datareader) (1.21.6)\n",
            "Requirement already satisfied: six>=1.5 in /usr/local/lib/python3.7/dist-packages (from python-dateutil>=2.7.3->pandas>=0.23->pandas-datareader) (1.15.0)\n",
            "Requirement already satisfied: certifi>=2017.4.17 in /usr/local/lib/python3.7/dist-packages (from requests>=2.19.0->pandas-datareader) (2022.6.15)\n",
            "Requirement already satisfied: urllib3!=1.25.0,!=1.25.1,<1.26,>=1.21.1 in /usr/local/lib/python3.7/dist-packages (from requests>=2.19.0->pandas-datareader) (1.24.3)\n",
            "Requirement already satisfied: idna<3,>=2.5 in /usr/local/lib/python3.7/dist-packages (from requests>=2.19.0->pandas-datareader) (2.10)\n",
            "Requirement already satisfied: chardet<4,>=3.0.2 in /usr/local/lib/python3.7/dist-packages (from requests>=2.19.0->pandas-datareader) (3.0.4)\n",
            "Installing collected packages: pandas-datareader\n",
            "  Attempting uninstall: pandas-datareader\n",
            "    Found existing installation: pandas-datareader 0.9.0\n",
            "    Uninstalling pandas-datareader-0.9.0:\n",
            "      Successfully uninstalled pandas-datareader-0.9.0\n",
            "Successfully installed pandas-datareader-0.10.0\n"
          ]
        },
        {
          "output_type": "display_data",
          "data": {
            "application/vnd.colab-display-data+json": {
              "pip_warning": {
                "packages": [
                  "pandas_datareader"
                ]
              }
            }
          },
          "metadata": {}
        }
      ]
    },
    {
      "cell_type": "code",
      "source": [
        "# Get the stock quote\n",
        "df = web.DataReader('AAPL',start='2015-01-01', end='2022-08-09 ',data_source='yahoo')\n",
        "df"
      ],
      "metadata": {
        "colab": {
          "base_uri": "https://localhost:8080/",
          "height": 455
        },
        "id": "NHPTs-8ecaCA",
        "outputId": "92688181-7d1f-4d2e-8c2a-0b9e19f0e8f0"
      },
      "execution_count": 3,
      "outputs": [
        {
          "output_type": "execute_result",
          "data": {
            "text/plain": [
              "                  High         Low        Open       Close       Volume  \\\n",
              "Date                                                                      \n",
              "2015-01-02   27.860001   26.837500   27.847500   27.332500  212818400.0   \n",
              "2015-01-05   27.162500   26.352501   27.072500   26.562500  257142000.0   \n",
              "2015-01-06   26.857500   26.157499   26.635000   26.565001  263188400.0   \n",
              "2015-01-07   27.049999   26.674999   26.799999   26.937500  160423600.0   \n",
              "2015-01-08   28.037500   27.174999   27.307501   27.972500  237458000.0   \n",
              "...                ...         ...         ...         ...          ...   \n",
              "2022-08-02  162.410004  159.630005  160.100006  160.009995   59907000.0   \n",
              "2022-08-03  166.589996  160.750000  160.839996  166.130005   82507500.0   \n",
              "2022-08-04  167.190002  164.429993  166.009995  165.809998   55474100.0   \n",
              "2022-08-05  165.850006  163.000000  163.210007  165.350006   56646600.0   \n",
              "2022-08-08  167.809998  164.199997  166.369995  164.869995   60276900.0   \n",
              "\n",
              "             Adj Close  \n",
              "Date                    \n",
              "2015-01-02   24.644022  \n",
              "2015-01-05   23.949759  \n",
              "2015-01-06   23.952015  \n",
              "2015-01-07   24.287872  \n",
              "2015-01-08   25.221060  \n",
              "...                ...  \n",
              "2022-08-02  159.788040  \n",
              "2022-08-03  165.899567  \n",
              "2022-08-04  165.580002  \n",
              "2022-08-05  165.350006  \n",
              "2022-08-08  164.869995  \n",
              "\n",
              "[1913 rows x 6 columns]"
            ],
            "text/html": [
              "\n",
              "  <div id=\"df-88eaf57a-f5f7-4f7c-8b3b-d7e541b1aeb8\">\n",
              "    <div class=\"colab-df-container\">\n",
              "      <div>\n",
              "<style scoped>\n",
              "    .dataframe tbody tr th:only-of-type {\n",
              "        vertical-align: middle;\n",
              "    }\n",
              "\n",
              "    .dataframe tbody tr th {\n",
              "        vertical-align: top;\n",
              "    }\n",
              "\n",
              "    .dataframe thead th {\n",
              "        text-align: right;\n",
              "    }\n",
              "</style>\n",
              "<table border=\"1\" class=\"dataframe\">\n",
              "  <thead>\n",
              "    <tr style=\"text-align: right;\">\n",
              "      <th></th>\n",
              "      <th>High</th>\n",
              "      <th>Low</th>\n",
              "      <th>Open</th>\n",
              "      <th>Close</th>\n",
              "      <th>Volume</th>\n",
              "      <th>Adj Close</th>\n",
              "    </tr>\n",
              "    <tr>\n",
              "      <th>Date</th>\n",
              "      <th></th>\n",
              "      <th></th>\n",
              "      <th></th>\n",
              "      <th></th>\n",
              "      <th></th>\n",
              "      <th></th>\n",
              "    </tr>\n",
              "  </thead>\n",
              "  <tbody>\n",
              "    <tr>\n",
              "      <th>2015-01-02</th>\n",
              "      <td>27.860001</td>\n",
              "      <td>26.837500</td>\n",
              "      <td>27.847500</td>\n",
              "      <td>27.332500</td>\n",
              "      <td>212818400.0</td>\n",
              "      <td>24.644022</td>\n",
              "    </tr>\n",
              "    <tr>\n",
              "      <th>2015-01-05</th>\n",
              "      <td>27.162500</td>\n",
              "      <td>26.352501</td>\n",
              "      <td>27.072500</td>\n",
              "      <td>26.562500</td>\n",
              "      <td>257142000.0</td>\n",
              "      <td>23.949759</td>\n",
              "    </tr>\n",
              "    <tr>\n",
              "      <th>2015-01-06</th>\n",
              "      <td>26.857500</td>\n",
              "      <td>26.157499</td>\n",
              "      <td>26.635000</td>\n",
              "      <td>26.565001</td>\n",
              "      <td>263188400.0</td>\n",
              "      <td>23.952015</td>\n",
              "    </tr>\n",
              "    <tr>\n",
              "      <th>2015-01-07</th>\n",
              "      <td>27.049999</td>\n",
              "      <td>26.674999</td>\n",
              "      <td>26.799999</td>\n",
              "      <td>26.937500</td>\n",
              "      <td>160423600.0</td>\n",
              "      <td>24.287872</td>\n",
              "    </tr>\n",
              "    <tr>\n",
              "      <th>2015-01-08</th>\n",
              "      <td>28.037500</td>\n",
              "      <td>27.174999</td>\n",
              "      <td>27.307501</td>\n",
              "      <td>27.972500</td>\n",
              "      <td>237458000.0</td>\n",
              "      <td>25.221060</td>\n",
              "    </tr>\n",
              "    <tr>\n",
              "      <th>...</th>\n",
              "      <td>...</td>\n",
              "      <td>...</td>\n",
              "      <td>...</td>\n",
              "      <td>...</td>\n",
              "      <td>...</td>\n",
              "      <td>...</td>\n",
              "    </tr>\n",
              "    <tr>\n",
              "      <th>2022-08-02</th>\n",
              "      <td>162.410004</td>\n",
              "      <td>159.630005</td>\n",
              "      <td>160.100006</td>\n",
              "      <td>160.009995</td>\n",
              "      <td>59907000.0</td>\n",
              "      <td>159.788040</td>\n",
              "    </tr>\n",
              "    <tr>\n",
              "      <th>2022-08-03</th>\n",
              "      <td>166.589996</td>\n",
              "      <td>160.750000</td>\n",
              "      <td>160.839996</td>\n",
              "      <td>166.130005</td>\n",
              "      <td>82507500.0</td>\n",
              "      <td>165.899567</td>\n",
              "    </tr>\n",
              "    <tr>\n",
              "      <th>2022-08-04</th>\n",
              "      <td>167.190002</td>\n",
              "      <td>164.429993</td>\n",
              "      <td>166.009995</td>\n",
              "      <td>165.809998</td>\n",
              "      <td>55474100.0</td>\n",
              "      <td>165.580002</td>\n",
              "    </tr>\n",
              "    <tr>\n",
              "      <th>2022-08-05</th>\n",
              "      <td>165.850006</td>\n",
              "      <td>163.000000</td>\n",
              "      <td>163.210007</td>\n",
              "      <td>165.350006</td>\n",
              "      <td>56646600.0</td>\n",
              "      <td>165.350006</td>\n",
              "    </tr>\n",
              "    <tr>\n",
              "      <th>2022-08-08</th>\n",
              "      <td>167.809998</td>\n",
              "      <td>164.199997</td>\n",
              "      <td>166.369995</td>\n",
              "      <td>164.869995</td>\n",
              "      <td>60276900.0</td>\n",
              "      <td>164.869995</td>\n",
              "    </tr>\n",
              "  </tbody>\n",
              "</table>\n",
              "<p>1913 rows × 6 columns</p>\n",
              "</div>\n",
              "      <button class=\"colab-df-convert\" onclick=\"convertToInteractive('df-88eaf57a-f5f7-4f7c-8b3b-d7e541b1aeb8')\"\n",
              "              title=\"Convert this dataframe to an interactive table.\"\n",
              "              style=\"display:none;\">\n",
              "        \n",
              "  <svg xmlns=\"http://www.w3.org/2000/svg\" height=\"24px\"viewBox=\"0 0 24 24\"\n",
              "       width=\"24px\">\n",
              "    <path d=\"M0 0h24v24H0V0z\" fill=\"none\"/>\n",
              "    <path d=\"M18.56 5.44l.94 2.06.94-2.06 2.06-.94-2.06-.94-.94-2.06-.94 2.06-2.06.94zm-11 1L8.5 8.5l.94-2.06 2.06-.94-2.06-.94L8.5 2.5l-.94 2.06-2.06.94zm10 10l.94 2.06.94-2.06 2.06-.94-2.06-.94-.94-2.06-.94 2.06-2.06.94z\"/><path d=\"M17.41 7.96l-1.37-1.37c-.4-.4-.92-.59-1.43-.59-.52 0-1.04.2-1.43.59L10.3 9.45l-7.72 7.72c-.78.78-.78 2.05 0 2.83L4 21.41c.39.39.9.59 1.41.59.51 0 1.02-.2 1.41-.59l7.78-7.78 2.81-2.81c.8-.78.8-2.07 0-2.86zM5.41 20L4 18.59l7.72-7.72 1.47 1.35L5.41 20z\"/>\n",
              "  </svg>\n",
              "      </button>\n",
              "      \n",
              "  <style>\n",
              "    .colab-df-container {\n",
              "      display:flex;\n",
              "      flex-wrap:wrap;\n",
              "      gap: 12px;\n",
              "    }\n",
              "\n",
              "    .colab-df-convert {\n",
              "      background-color: #E8F0FE;\n",
              "      border: none;\n",
              "      border-radius: 50%;\n",
              "      cursor: pointer;\n",
              "      display: none;\n",
              "      fill: #1967D2;\n",
              "      height: 32px;\n",
              "      padding: 0 0 0 0;\n",
              "      width: 32px;\n",
              "    }\n",
              "\n",
              "    .colab-df-convert:hover {\n",
              "      background-color: #E2EBFA;\n",
              "      box-shadow: 0px 1px 2px rgba(60, 64, 67, 0.3), 0px 1px 3px 1px rgba(60, 64, 67, 0.15);\n",
              "      fill: #174EA6;\n",
              "    }\n",
              "\n",
              "    [theme=dark] .colab-df-convert {\n",
              "      background-color: #3B4455;\n",
              "      fill: #D2E3FC;\n",
              "    }\n",
              "\n",
              "    [theme=dark] .colab-df-convert:hover {\n",
              "      background-color: #434B5C;\n",
              "      box-shadow: 0px 1px 3px 1px rgba(0, 0, 0, 0.15);\n",
              "      filter: drop-shadow(0px 1px 2px rgba(0, 0, 0, 0.3));\n",
              "      fill: #FFFFFF;\n",
              "    }\n",
              "  </style>\n",
              "\n",
              "      <script>\n",
              "        const buttonEl =\n",
              "          document.querySelector('#df-88eaf57a-f5f7-4f7c-8b3b-d7e541b1aeb8 button.colab-df-convert');\n",
              "        buttonEl.style.display =\n",
              "          google.colab.kernel.accessAllowed ? 'block' : 'none';\n",
              "\n",
              "        async function convertToInteractive(key) {\n",
              "          const element = document.querySelector('#df-88eaf57a-f5f7-4f7c-8b3b-d7e541b1aeb8');\n",
              "          const dataTable =\n",
              "            await google.colab.kernel.invokeFunction('convertToInteractive',\n",
              "                                                     [key], {});\n",
              "          if (!dataTable) return;\n",
              "\n",
              "          const docLinkHtml = 'Like what you see? Visit the ' +\n",
              "            '<a target=\"_blank\" href=https://colab.research.google.com/notebooks/data_table.ipynb>data table notebook</a>'\n",
              "            + ' to learn more about interactive tables.';\n",
              "          element.innerHTML = '';\n",
              "          dataTable['output_type'] = 'display_data';\n",
              "          await google.colab.output.renderOutput(dataTable, element);\n",
              "          const docLink = document.createElement('div');\n",
              "          docLink.innerHTML = docLinkHtml;\n",
              "          element.appendChild(docLink);\n",
              "        }\n",
              "      </script>\n",
              "    </div>\n",
              "  </div>\n",
              "  "
            ]
          },
          "metadata": {},
          "execution_count": 3
        }
      ]
    },
    {
      "cell_type": "code",
      "source": [
        "# Get the number of rows and columns in the data set\n",
        "df.shape"
      ],
      "metadata": {
        "colab": {
          "base_uri": "https://localhost:8080/"
        },
        "id": "L73VIPPos9UL",
        "outputId": "7b20e466-3028-4cd2-e493-5cad2f2f0845"
      },
      "execution_count": 4,
      "outputs": [
        {
          "output_type": "execute_result",
          "data": {
            "text/plain": [
              "(1913, 6)"
            ]
          },
          "metadata": {},
          "execution_count": 4
        }
      ]
    },
    {
      "cell_type": "code",
      "source": [
        "# Visualize the closing price history\n",
        "plt.figure(figsize=(16,8))\n",
        "plt.title('Close Price History')\n",
        "plt.plot(df['Close'])\n",
        "plt.xlabel('Date', fontsize=18)\n",
        "plt.ylabel('Close Price USD ($)', fontsize=18)\n",
        "plt.show()"
      ],
      "metadata": {
        "colab": {
          "base_uri": "https://localhost:8080/",
          "height": 518
        },
        "id": "ktlSpbqitSGs",
        "outputId": "a592383a-7e65-45ef-d1a4-85f614bf6be2"
      },
      "execution_count": 5,
      "outputs": [
        {
          "output_type": "display_data",
          "data": {
            "text/plain": [
              "<Figure size 1152x576 with 1 Axes>"
            ],
            "image/png": "[encoded data removed]"
          },
          "metadata": {
            "needs_background": "light"
          }
        }
      ]
    },
    {
      "cell_type": "code",
      "source": [
        "# Create a new dataframe with only the 'Close column'\n",
        "data = df.filter(['Close'])\n",
        "# Convert the dataframe to numpy array\n",
        "dataset = data.values\n",
        "# Get the number of rows to train the model on \n",
        "tranining_data_len = math.ceil(len(dataset)*.8)\n",
        "tranining_data_len"
      ],
      "metadata": {
        "colab": {
          "base_uri": "https://localhost:8080/"
        },
        "id": "u-xbBs02t1fT",
        "outputId": "0241fd34-5ea6-4b48-fd60-93903e7323ab"
      },
      "execution_count": 6,
      "outputs": [
        {
          "output_type": "execute_result",
          "data": {
            "text/plain": [
              "1531"
            ]
          },
          "metadata": {},
          "execution_count": 6
        }
      ]
    },
    {
      "cell_type": "code",
      "source": [
        "# Scale the data\n",
        "scaler = MinMaxScaler(feature_range=(0,1))\n",
        "scaled_data = scaler.fit_transform(dataset)\n",
        "\n",
        "scaled_data"
      ],
      "metadata": {
        "colab": {
          "base_uri": "https://localhost:8080/"
        },
        "id": "F2mfX2nqu1Ir",
        "outputId": "22cd8282-f85e-40c1-ee05-2815978c1a5d"
      },
      "execution_count": 7,
      "outputs": [
        {
          "output_type": "execute_result",
          "data": {
            "text/plain": [
              "array([[0.0297789 ],\n",
              "       [0.02494904],\n",
              "       [0.02496473],\n",
              "       ...,\n",
              "       [0.89838484],\n",
              "       [0.89549952],\n",
              "       [0.89248863]])"
            ]
          },
          "metadata": {},
          "execution_count": 7
        }
      ]
    },
    {
      "cell_type": "code",
      "source": [
        "from re import X\n",
        "# Create the training data set\n",
        "# Create the scaled training data set\n",
        "train_data = scaled_data[0:tranining_data_len, :]\n",
        "# Split the data into x_train and y_train data sets\n",
        "x_train = []\n",
        "y_train = []\n",
        "\n",
        "for i in range(60, len(train_data)):\n",
        "  x_train.append(train_data[i-60:i, 0])\n",
        "  y_train.append(train_data[i, 0])\n",
        "  if i <= 61:\n",
        "    print(x_train)\n",
        "    print(y_train)\n",
        "    print()"
      ],
      "metadata": {
        "colab": {
          "base_uri": "https://localhost:8080/"
        },
        "id": "MUuiLVfVvTBK",
        "outputId": "b03117cb-5a6c-4dff-ff99-18f81d46989d"
      },
      "execution_count": 9,
      "outputs": [
        {
          "output_type": "stream",
          "name": "stdout",
          "text": [
            "[array([0.0297789 , 0.02494904, 0.02496473, 0.02730125, 0.03379333,\n",
            "       0.03398151, 0.02965345, 0.03117454, 0.03051593, 0.02584288,\n",
            "       0.02454132, 0.02882234, 0.03012389, 0.03459308, 0.0355026 ,\n",
            "       0.03569077, 0.02948095, 0.03915635, 0.04478596, 0.04205741,\n",
            "       0.04436256, 0.04439393, 0.04582092, 0.04641682, 0.044833  ,\n",
            "       0.04607183, 0.04967853, 0.0541634 , 0.05664106, 0.05761331,\n",
            "       0.05878941, 0.06018505, 0.05976165, 0.06140819, 0.06689667,\n",
            "       0.06559511, 0.06029481, 0.06285087, 0.05977734, 0.06076525,\n",
            "       0.06118866, 0.05990277, 0.05656266, 0.0568606 , 0.05770739,\n",
            "       0.0535832 , 0.05002353, 0.0534891 , 0.05214051, 0.05427317,\n",
            "       0.05755058, 0.05979302, 0.05827192, 0.05576291, 0.05781716,\n",
            "       0.05700174, 0.0518112 , 0.0531598 , 0.05160735, 0.05649993])]\n",
            "[0.053457746504823156]\n",
            "\n",
            "[array([0.0297789 , 0.02494904, 0.02496473, 0.02730125, 0.03379333,\n",
            "       0.03398151, 0.02965345, 0.03117454, 0.03051593, 0.02584288,\n",
            "       0.02454132, 0.02882234, 0.03012389, 0.03459308, 0.0355026 ,\n",
            "       0.03569077, 0.02948095, 0.03915635, 0.04478596, 0.04205741,\n",
            "       0.04436256, 0.04439393, 0.04582092, 0.04641682, 0.044833  ,\n",
            "       0.04607183, 0.04967853, 0.0541634 , 0.05664106, 0.05761331,\n",
            "       0.05878941, 0.06018505, 0.05976165, 0.06140819, 0.06689667,\n",
            "       0.06559511, 0.06029481, 0.06285087, 0.05977734, 0.06076525,\n",
            "       0.06118866, 0.05990277, 0.05656266, 0.0568606 , 0.05770739,\n",
            "       0.0535832 , 0.05002353, 0.0534891 , 0.05214051, 0.05427317,\n",
            "       0.05755058, 0.05979302, 0.05827192, 0.05576291, 0.05781716,\n",
            "       0.05700174, 0.0518112 , 0.0531598 , 0.05160735, 0.05649993]), array([0.02494904, 0.02496473, 0.02730125, 0.03379333, 0.03398151,\n",
            "       0.02965345, 0.03117454, 0.03051593, 0.02584288, 0.02454132,\n",
            "       0.02882234, 0.03012389, 0.03459308, 0.0355026 , 0.03569077,\n",
            "       0.02948095, 0.03915635, 0.04478596, 0.04205741, 0.04436256,\n",
            "       0.04439393, 0.04582092, 0.04641682, 0.044833  , 0.04607183,\n",
            "       0.04967853, 0.0541634 , 0.05664106, 0.05761331, 0.05878941,\n",
            "       0.06018505, 0.05976165, 0.06140819, 0.06689667, 0.06559511,\n",
            "       0.06029481, 0.06285087, 0.05977734, 0.06076525, 0.06118866,\n",
            "       0.05990277, 0.05656266, 0.0568606 , 0.05770739, 0.0535832 ,\n",
            "       0.05002353, 0.0534891 , 0.05214051, 0.05427317, 0.05755058,\n",
            "       0.05979302, 0.05827192, 0.05576291, 0.05781716, 0.05700174,\n",
            "       0.0518112 , 0.0531598 , 0.05160735, 0.05649993, 0.05345775])]\n",
            "[0.053457746504823156, 0.0531754816305183]\n",
            "\n"
          ]
        }
      ]
    },
    {
      "cell_type": "code",
      "source": [
        "# Convert the x_train and y_train to numpy arrays\n",
        "x_train, y_train = np.array(x_train), np.array(y_train)"
      ],
      "metadata": {
        "id": "XyIzlVZ6whli"
      },
      "execution_count": 10,
      "outputs": []
    },
    {
      "cell_type": "code",
      "source": [
        "# Reshape the data\n",
        "x_train = np.reshape(x_train, (x_train.shape[0], x_train.shape[1], 1))\n",
        "x_train.shape"
      ],
      "metadata": {
        "colab": {
          "base_uri": "https://localhost:8080/"
        },
        "id": "xa7LuZ0mw6_j",
        "outputId": "18351280-80d5-4071-b6fb-ce86d7dade7a"
      },
      "execution_count": 12,
      "outputs": [
        {
          "output_type": "execute_result",
          "data": {
            "text/plain": [
              "(1471, 60, 1)"
            ]
          },
          "metadata": {},
          "execution_count": 12
        }
      ]
    },
    {
      "cell_type": "code",
      "source": [
        "# Buld the LSTM model\n",
        "model = Sequential()\n",
        "model.add(LSTM(50, return_sequences=True,input_shape=(x_train.shape[1],1)))\n",
        "model.add(LSTM(50, return_sequences=False))\n",
        "model.add(Dense(25))\n",
        "model.add(Dense(1))"
      ],
      "metadata": {
        "id": "S3leuNFGxTfk"
      },
      "execution_count": 14,
      "outputs": []
    },
    {
      "cell_type": "code",
      "source": [
        "# Compile the model\n",
        "model.compile(optimizer='adam', loss='mean_squared_error')"
      ],
      "metadata": {
        "id": "FOPhNgNoyRSk"
      },
      "execution_count": 15,
      "outputs": []
    },
    {
      "cell_type": "code",
      "source": [
        "# Train the model\n",
        "model.fit(x_train, y_train, batch_size=1, epochs=1)"
      ],
      "metadata": {
        "colab": {
          "base_uri": "https://localhost:8080/"
        },
        "id": "OtOTXoPYyc7T",
        "outputId": "aab5ad3b-fb49-4da1-e0dc-482e643a4f49"
      },
      "execution_count": 16,
      "outputs": [
        {
          "output_type": "stream",
          "name": "stdout",
          "text": [
            "1471/1471 [==============================] - 44s 27ms/step - loss: 9.1683e-04\n"
          ]
        },
        {
          "output_type": "execute_result",
          "data": {
            "text/plain": [
              "<keras.callbacks.History at 0x7f3e7ba633d0>"
            ]
          },
          "metadata": {},
          "execution_count": 16
        }
      ]
    },
    {
      "cell_type": "code",
      "source": [
        "# Create the testing data set\n",
        "# Create a new array containing scaled values from index 1471 to 1913\n",
        "test_data = scaled_data[tranining_data_len-60:, :]\n",
        "# Create the data sets x_test and y_test\n",
        "x_test = []\n",
        "y_test = dataset[tranining_data_len:, :]\n",
        "for i in range(60, len(test_data)):\n",
        "  x_test.append(test_data[i-60:i, 0])\n",
        "  \n"
      ],
      "metadata": {
        "id": "8Eaif1WFy4mz"
      },
      "execution_count": 19,
      "outputs": []
    },
    {
      "cell_type": "code",
      "source": [
        "# Convert the data to a numpy array\n",
        "x_test = np.array(x_test)"
      ],
      "metadata": {
        "id": "iitbnZ6YzmE6"
      },
      "execution_count": 20,
      "outputs": []
    },
    {
      "cell_type": "code",
      "source": [
        "# Reshape the data\n",
        "x_test = np.reshape(x_test, (x_test.shape[0], x_test.shape[1], 1))"
      ],
      "metadata": {
        "id": "g33KkoFo0QmT"
      },
      "execution_count": 21,
      "outputs": []
    },
    {
      "cell_type": "code",
      "source": [
        "# Get teh models predicted price values\n",
        "predictions = model.predict(x_test)\n",
        "predictions = scaler.inverse_transform(predictions)"
      ],
      "metadata": {
        "id": "FZ2D0SxM0nVE"
      },
      "execution_count": 22,
      "outputs": []
    },
    {
      "cell_type": "code",
      "source": [
        "# Get the root mean squared error (RMSE)\n",
        "rmse = np.sqrt(np.mean(predictions - y_test)**2)\n",
        "rmse"
      ],
      "metadata": {
        "colab": {
          "base_uri": "https://localhost:8080/"
        },
        "id": "3zXwXhkR04yb",
        "outputId": "1556c2e8-b4e7-413d-a32a-ed6bcfac1a8f"
      },
      "execution_count": 26,
      "outputs": [
        {
          "output_type": "execute_result",
          "data": {
            "text/plain": [
              "6.096919274454966"
            ]
          },
          "metadata": {},
          "execution_count": 26
        }
      ]
    },
    {
      "cell_type": "code",
      "source": [
        "# Plot the data\n",
        "train = data[:tranining_data_len]\n",
        "valid = data[tranining_data_len:]\n",
        "valid['Predictions'] = predictions\n",
        "# Visualize the data\n",
        "plt.figure(figsize=(16, 8))\n",
        "plt.title('Model')\n",
        "plt.xlabel('Date', fontsize=18)\n",
        "plt.ylabel('Close Price USD ($)', fontsize=18)\n",
        "plt.plot(train['Close'])\n",
        "plt.plot(valid[['Close', 'Predictions']])\n",
        "plt.legend(['Train', 'Val', 'Predictions'], loc='low right')\n",
        "plt.show()"
      ],
      "metadata": {
        "colab": {
          "base_uri": "https://localhost:8080/",
          "height": 885
        },
        "id": "WPn_lxLr1lwM",
        "outputId": "14dedaf0-b1ad-48d8-edd5-a373f1e8ac0d"
      },
      "execution_count": 28,
      "outputs": [
        {
          "output_type": "stream",
          "name": "stderr",
          "text": [
            "/usr/local/lib/python3.7/dist-packages/ipykernel_launcher.py:4: SettingWithCopyWarning: \n",
            "A value is trying to be set on a copy of a slice from a DataFrame.\n",
            "Try using .loc[row_indexer,col_indexer] = value instead\n",
            "\n",
            "See the caveats in the documentation: https://pandas.pydata.org/pandas-docs/stable/user_guide/indexing.html#returning-a-view-versus-a-copy\n",
            "  after removing the cwd from sys.path.\n",
            "/usr/local/lib/python3.7/dist-packages/ipykernel_launcher.py:12: MatplotlibDeprecationWarning: Unrecognized location 'low right'. Falling back on 'best'; valid locations are\n",
            "\tbest\n",
            "\tupper right\n",
            "\tupper left\n",
            "\tlower left\n",
            "\tlower right\n",
            "\tright\n",
            "\tcenter left\n",
            "\tcenter right\n",
            "\tlower center\n",
            "\tupper center\n",
            "\tcenter\n",
            "This will raise an exception in 3.3.\n",
            "  if sys.path[0] == '':\n"
          ]
        },
        {
          "output_type": "display_data",
          "data": {
            "text/plain": [
              "<Figure size 1152x576 with 1 Axes>"
            ],
            "image/png": "[encoded data removed]"
          },
          "metadata": {
            "needs_background": "light"
          }
        }
      ]
    },
    {
      "cell_type": "code",
      "source": [
        "valid"
      ],
      "metadata": {
        "colab": {
          "base_uri": "https://localhost:8080/",
          "height": 455
        },
        "id": "-kFzgfFa3fX8",
        "outputId": "285ff6b0-8a64-40c2-8ea0-cd96890163ac"
      },
      "execution_count": 29,
      "outputs": [
        {
          "output_type": "execute_result",
          "data": {
            "text/plain": [
              "                 Close  Predictions\n",
              "Date                               \n",
              "2021-02-02  134.990005   144.054810\n",
              "2021-02-03  133.940002   143.615448\n",
              "2021-02-04  137.389999   143.065720\n",
              "2021-02-05  136.759995   142.872162\n",
              "2021-02-08  136.910004   142.800583\n",
              "...                ...          ...\n",
              "2022-08-02  160.009995   162.705338\n",
              "2022-08-03  166.130005   163.769119\n",
              "2022-08-04  165.809998   165.228134\n",
              "2022-08-05  165.350006   166.661560\n",
              "2022-08-08  164.869995   167.898270\n",
              "\n",
              "[382 rows x 2 columns]"
            ],
            "text/html": [
              "\n",
              "  <div id=\"df-2caefb00-db46-430f-8688-ec51f7869521\">\n",
              "    <div class=\"colab-df-container\">\n",
              "      <div>\n",
              "<style scoped>\n",
              "    .dataframe tbody tr th:only-of-type {\n",
              "        vertical-align: middle;\n",
              "    }\n",
              "\n",
              "    .dataframe tbody tr th {\n",
              "        vertical-align: top;\n",
              "    }\n",
              "\n",
              "    .dataframe thead th {\n",
              "        text-align: right;\n",
              "    }\n",
              "</style>\n",
              "<table border=\"1\" class=\"dataframe\">\n",
              "  <thead>\n",
              "    <tr style=\"text-align: right;\">\n",
              "      <th></th>\n",
              "      <th>Close</th>\n",
              "      <th>Predictions</th>\n",
              "    </tr>\n",
              "    <tr>\n",
              "      <th>Date</th>\n",
              "      <th></th>\n",
              "      <th></th>\n",
              "    </tr>\n",
              "  </thead>\n",
              "  <tbody>\n",
              "    <tr>\n",
              "      <th>2021-02-02</th>\n",
              "      <td>134.990005</td>\n",
              "      <td>144.054810</td>\n",
              "    </tr>\n",
              "    <tr>\n",
              "      <th>2021-02-03</th>\n",
              "      <td>133.940002</td>\n",
              "      <td>143.615448</td>\n",
              "    </tr>\n",
              "    <tr>\n",
              "      <th>2021-02-04</th>\n",
              "      <td>137.389999</td>\n",
              "      <td>143.065720</td>\n",
              "    </tr>\n",
              "    <tr>\n",
              "      <th>2021-02-05</th>\n",
              "      <td>136.759995</td>\n",
              "      <td>142.872162</td>\n",
              "    </tr>\n",
              "    <tr>\n",
              "      <th>2021-02-08</th>\n",
              "      <td>136.910004</td>\n",
              "      <td>142.800583</td>\n",
              "    </tr>\n",
              "    <tr>\n",
              "      <th>...</th>\n",
              "      <td>...</td>\n",
              "      <td>...</td>\n",
              "    </tr>\n",
              "    <tr>\n",
              "      <th>2022-08-02</th>\n",
              "      <td>160.009995</td>\n",
              "      <td>162.705338</td>\n",
              "    </tr>\n",
              "    <tr>\n",
              "      <th>2022-08-03</th>\n",
              "      <td>166.130005</td>\n",
              "      <td>163.769119</td>\n",
              "    </tr>\n",
              "    <tr>\n",
              "      <th>2022-08-04</th>\n",
              "      <td>165.809998</td>\n",
              "      <td>165.228134</td>\n",
              "    </tr>\n",
              "    <tr>\n",
              "      <th>2022-08-05</th>\n",
              "      <td>165.350006</td>\n",
              "      <td>166.661560</td>\n",
              "    </tr>\n",
              "    <tr>\n",
              "      <th>2022-08-08</th>\n",
              "      <td>164.869995</td>\n",
              "      <td>167.898270</td>\n",
              "    </tr>\n",
              "  </tbody>\n",
              "</table>\n",
              "<p>382 rows × 2 columns</p>\n",
              "</div>\n",
              "      <button class=\"colab-df-convert\" onclick=\"convertToInteractive('df-2caefb00-db46-430f-8688-ec51f7869521')\"\n",
              "              title=\"Convert this dataframe to an interactive table.\"\n",
              "              style=\"display:none;\">\n",
              "        \n",
              "  <svg xmlns=\"http://www.w3.org/2000/svg\" height=\"24px\"viewBox=\"0 0 24 24\"\n",
              "       width=\"24px\">\n",
              "    <path d=\"M0 0h24v24H0V0z\" fill=\"none\"/>\n",
              "    <path d=\"M18.56 5.44l.94 2.06.94-2.06 2.06-.94-2.06-.94-.94-2.06-.94 2.06-2.06.94zm-11 1L8.5 8.5l.94-2.06 2.06-.94-2.06-.94L8.5 2.5l-.94 2.06-2.06.94zm10 10l.94 2.06.94-2.06 2.06-.94-2.06-.94-.94-2.06-.94 2.06-2.06.94z\"/><path d=\"M17.41 7.96l-1.37-1.37c-.4-.4-.92-.59-1.43-.59-.52 0-1.04.2-1.43.59L10.3 9.45l-7.72 7.72c-.78.78-.78 2.05 0 2.83L4 21.41c.39.39.9.59 1.41.59.51 0 1.02-.2 1.41-.59l7.78-7.78 2.81-2.81c.8-.78.8-2.07 0-2.86zM5.41 20L4 18.59l7.72-7.72 1.47 1.35L5.41 20z\"/>\n",
              "  </svg>\n",
              "      </button>\n",
              "      \n",
              "  <style>\n",
              "    .colab-df-container {\n",
              "      display:flex;\n",
              "      flex-wrap:wrap;\n",
              "      gap: 12px;\n",
              "    }\n",
              "\n",
              "    .colab-df-convert {\n",
              "      background-color: #E8F0FE;\n",
              "      border: none;\n",
              "      border-radius: 50%;\n",
              "      cursor: pointer;\n",
              "      display: none;\n",
              "      fill: #1967D2;\n",
              "      height: 32px;\n",
              "      padding: 0 0 0 0;\n",
              "      width: 32px;\n",
              "    }\n",
              "\n",
              "    .colab-df-convert:hover {\n",
              "      background-color: #E2EBFA;\n",
              "      box-shadow: 0px 1px 2px rgba(60, 64, 67, 0.3), 0px 1px 3px 1px rgba(60, 64, 67, 0.15);\n",
              "      fill: #174EA6;\n",
              "    }\n",
              "\n",
              "    [theme=dark] .colab-df-convert {\n",
              "      background-color: #3B4455;\n",
              "      fill: #D2E3FC;\n",
              "    }\n",
              "\n",
              "    [theme=dark] .colab-df-convert:hover {\n",
              "      background-color: #434B5C;\n",
              "      box-shadow: 0px 1px 3px 1px rgba(0, 0, 0, 0.15);\n",
              "      filter: drop-shadow(0px 1px 2px rgba(0, 0, 0, 0.3));\n",
              "      fill: #FFFFFF;\n",
              "    }\n",
              "  </style>\n",
              "\n",
              "      <script>\n",
              "        const buttonEl =\n",
              "          document.querySelector('#df-2caefb00-db46-430f-8688-ec51f7869521 button.colab-df-convert');\n",
              "        buttonEl.style.display =\n",
              "          google.colab.kernel.accessAllowed ? 'block' : 'none';\n",
              "\n",
              "        async function convertToInteractive(key) {\n",
              "          const element = document.querySelector('#df-2caefb00-db46-430f-8688-ec51f7869521');\n",
              "          const dataTable =\n",
              "            await google.colab.kernel.invokeFunction('convertToInteractive',\n",
              "                                                     [key], {});\n",
              "          if (!dataTable) return;\n",
              "\n",
              "          const docLinkHtml = 'Like what you see? Visit the ' +\n",
              "            '<a target=\"_blank\" href=https://colab.research.google.com/notebooks/data_table.ipynb>data table notebook</a>'\n",
              "            + ' to learn more about interactive tables.';\n",
              "          element.innerHTML = '';\n",
              "          dataTable['output_type'] = 'display_data';\n",
              "          await google.colab.output.renderOutput(dataTable, element);\n",
              "          const docLink = document.createElement('div');\n",
              "          docLink.innerHTML = docLinkHtml;\n",
              "          element.appendChild(docLink);\n",
              "        }\n",
              "      </script>\n",
              "    </div>\n",
              "  </div>\n",
              "  "
            ]
          },
          "metadata": {},
          "execution_count": 29
        }
      ]
    }
  ]
}